{
 "cells": [
  {
   "cell_type": "code",
   "execution_count": null,
   "metadata": {},
   "outputs": [],
   "source": [
    "import pandas as pd\n",
    "import geopandas as gpd\n",
    "from shapely.geometry import Point, Polygon\n",
    "from shapely import affinity\n",
    "import matplotlib.pyplot as plt\n",
    "import contextily as ctx"
   ]
  },
  {
   "cell_type": "code",
   "execution_count": null,
   "metadata": {},
   "outputs": [],
   "source": [
    "gdf = gpd.read_file('../data/na_lakes/hydrography_p_lakes_v2/hydrography_p_lakes_v2.shp')"
   ]
  },
  {
   "cell_type": "code",
   "execution_count": null,
   "metadata": {},
   "outputs": [],
   "source": [
    "gdf.crs"
   ]
  },
  {
   "cell_type": "code",
   "execution_count": null,
   "metadata": {},
   "outputs": [],
   "source": [
    "gdf = gdf.to_crs(epsg=3857)\n",
    "gdf = gdf.dropna()"
   ]
  },
  {
   "cell_type": "code",
   "execution_count": null,
   "metadata": {},
   "outputs": [],
   "source": [
    "gdf[gdf['NAMEEN'].str.contains('Cayuga')]"
   ]
  },
  {
   "cell_type": "code",
   "execution_count": null,
   "metadata": {},
   "outputs": [],
   "source": [
    "lake_bounds = gdf[gdf['NAMEEN'].str.contains('Cayuga')]['geometry'].unary_union\n",
    "# lake_bounds = affinity.scale(lake_bounds, xfact=1.5, yfact=1)\n",
    "# lake_bounds = affinity.translate(lake_bounds, xoff=3000.0, yoff=0)\n",
    "# lake_bounds = affinity.rotate(lake_bounds, xoff=3000.0, yoff=0)"
   ]
  },
  {
   "cell_type": "code",
   "execution_count": null,
   "metadata": {},
   "outputs": [],
   "source": [
    "from pyproj import Transformer\n",
    "\n",
    "def get_state_bounds(abbr):\n",
    "    # get bounds for state and convert to epsg:3857\n",
    "    usa = gpd.read_file('../data/states_21basic/states.shp')\n",
    "\n",
    "    state_bounds = usa[usa.STATE_ABBR == abbr].total_bounds.reshape((2, 2))\n",
    "\n",
    "    transformer = Transformer.from_crs(\"epsg:4326\", \"epsg:3857\")\n",
    "\n",
    "    state_bounds[0] = transformer.transform(state_bounds[0,1]-0.1, state_bounds[0,0]-0.1)\n",
    "    state_bounds[1] = transformer.transform(state_bounds[1,1]+0.1, state_bounds[1,0]+0.1)\n",
    "    \n",
    "    return state_bounds"
   ]
  },
  {
   "cell_type": "code",
   "execution_count": null,
   "metadata": {},
   "outputs": [],
   "source": [
    "# ax = gdf[gdf['NAMEEN'].str.contains('Seneca')].plot(\n",
    "#     figsize=(18, 18), \n",
    "#     label='Seneca Lake',\n",
    "# )\n",
    "\n",
    "fig= plt.figure(figsize=(18, 18))\n",
    "\n",
    "ax = plt.plot(*lake_bounds.exterior.xy)\n",
    "ax = plt.gca()\n",
    "\n",
    "ctx.add_basemap(ax, source=ctx.providers.OpenStreetMap.Mapnik, zoom=8)\n",
    "ax.set_axis_off()"
   ]
  },
  {
   "cell_type": "code",
   "execution_count": null,
   "metadata": {},
   "outputs": [],
   "source": [
    "nh_lakes = gpd.read_file('../data/na_lakes/NH Water Bodies/NH Water Bodies.shp')"
   ]
  },
  {
   "cell_type": "code",
   "execution_count": null,
   "metadata": {},
   "outputs": [],
   "source": [
    "nh_lakes = nh_lakes.to_crs(epsg=3857)\n",
    "nh_lakes = nh_lakes.dropna()"
   ]
  },
  {
   "cell_type": "code",
   "execution_count": null,
   "metadata": {},
   "outputs": [],
   "source": [
    "nh_lakes.head()"
   ]
  },
  {
   "cell_type": "code",
   "execution_count": null,
   "metadata": {},
   "outputs": [],
   "source": [
    "len(nh_lakes['GNIS_Name'].unique())"
   ]
  },
  {
   "cell_type": "code",
   "execution_count": null,
   "metadata": {},
   "outputs": [],
   "source": [
    "sunapee_lake = nh_lakes[nh_lakes['GNIS_Name'] == 'Sunapee Lake']\n",
    "sunapee_lake"
   ]
  },
  {
   "cell_type": "code",
   "execution_count": null,
   "metadata": {},
   "outputs": [],
   "source": [
    "lake_bounds = sunapee_lake['geometry'].unary_union"
   ]
  },
  {
   "cell_type": "code",
   "execution_count": null,
   "metadata": {},
   "outputs": [],
   "source": [
    "fig= plt.figure(figsize=(18, 18))\n",
    "\n",
    "ax = plt.plot(*lake_bounds.exterior.xy)\n",
    "ax = plt.gca()\n",
    "\n",
    "ctx.add_basemap(ax, source=ctx.providers.OpenStreetMap.Mapnik, zoom=8)\n",
    "ax.set_axis_off()"
   ]
  }
 ],
 "metadata": {
  "kernelspec": {
   "display_name": "Python 3",
   "language": "python",
   "name": "python3"
  },
  "language_info": {
   "codemirror_mode": {
    "name": "ipython",
    "version": 3
   },
   "file_extension": ".py",
   "mimetype": "text/x-python",
   "name": "python",
   "nbconvert_exporter": "python",
   "pygments_lexer": "ipython3",
   "version": "3.8.5"
  }
 },
 "nbformat": 4,
 "nbformat_minor": 4
}
