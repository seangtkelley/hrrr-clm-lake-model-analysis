{
 "cells": [
  {
   "cell_type": "code",
   "execution_count": null,
   "metadata": {},
   "outputs": [],
   "source": [
    "import os, sys\n",
    "import ast\n",
    "from datetime import date\n",
    "\n",
    "from netCDF4 import Dataset\n",
    "import numpy as np\n",
    "import pandas as pd\n",
    "import geopandas as gpd\n",
    "from shapely.geometry import Point, Polygon\n",
    "import matplotlib.pyplot as plt\n",
    "import contextily as ctx\n",
    "from pyproj import Transformer\n",
    "import plotly.express as px\n",
    "import django\n",
    "\n",
    "from bokeh.io import output_file, output_notebook, show\n",
    "from bokeh.models import (\n",
    "  GMapPlot, GMapOptions, ColumnDataSource, Circle, LogColorMapper, BasicTicker, ColorBar,\n",
    "    DataRange1d, Range1d, PanTool, WheelZoomTool, BoxSelectTool, ResetTool, HoverTool\n",
    ")\n",
    "from bokeh.models.mappers import ColorMapper, LinearColorMapper\n",
    "from bokeh.palettes import Viridis256"
   ]
  },
  {
   "cell_type": "code",
   "execution_count": null,
   "metadata": {},
   "outputs": [],
   "source": [
    "# setup for django\n",
    "sys.path.append(os.path.abspath(os.path.join('..')))\n",
    "os.environ[\"DJANGO_SETTINGS_MODULE\"] = \"djangoapp.config.settings\"\n",
    "os.environ[\"DJANGO_ALLOW_ASYNC_UNSAFE\"] = \"true\"\n",
    "django.setup()\n",
    "from djangoapp.lib import utils"
   ]
  },
  {
   "cell_type": "code",
   "execution_count": null,
   "metadata": {},
   "outputs": [],
   "source": [
    "lakes_gdf = utils.get_hrrrx_lake_output(date(2020, 4, 20), date(2020, 6, 20), cycle_hours=list(range(0, 24, 6)), pred_hours=[0])"
   ]
  },
  {
   "cell_type": "code",
   "execution_count": null,
   "metadata": {},
   "outputs": [],
   "source": [
    "# using manually-created bounding box for seneca lake\n",
    "coords = [\n",
    "    (-76.998076, 42.877521), \n",
    "    (-76.860185, 42.881791), \n",
    "    (-76.823285, 42.375953), \n",
    "    (-76.968944, 42.367344)\n",
    "]\n",
    "\n",
    "seneca_lake_bounds = gpd.GeoSeries([Polygon(coords)], crs='epsg:4326')\n",
    "seneca_lake_bounds = seneca_lake_bounds.unary_union"
   ]
  },
  {
   "cell_type": "code",
   "execution_count": null,
   "metadata": {},
   "outputs": [],
   "source": [
    "lakes_gdf = lakes_gdf.assign(**{ 'seneca_lake': lakes_gdf.within(seneca_lake_bounds) })\n",
    "seneca_lake_points = lakes_gdf[lakes_gdf['seneca_lake']]\n",
    "seneca_lake_points.head()"
   ]
  },
  {
   "cell_type": "code",
   "execution_count": null,
   "metadata": {},
   "outputs": [],
   "source": [
    "fig = px.line(\n",
    "    seneca_lake_points,\n",
    "    x='fcst_datetime',\n",
    "    y='water_temp',\n",
    "    color='idx',\n",
    "    width=1920, \n",
    "    height=1080\n",
    ")\n",
    "fig.update_layout(\n",
    "    title=\"HRRRX/CLM Lake Model 0hr-Preds for Seneca Lake, NY from Apr 20, 2020 - Jun 20, 2020 Forecast Cycles 00, 06, 12, and 18\",\n",
    "    xaxis_title=\"Forcast Cycle\",\n",
    "    yaxis_title=\"Water Temp (C)\",\n",
    "    xaxis = {\n",
    "        'dtick': 3600000.0*24#*7\n",
    "    }\n",
    ")\n",
    "fig.update_traces(connectgaps=False)\n",
    "fig.show()"
   ]
  },
  {
   "cell_type": "code",
   "execution_count": null,
   "metadata": {},
   "outputs": [],
   "source": []
  }
 ],
 "metadata": {
  "kernelspec": {
   "display_name": "Python 3",
   "language": "python",
   "name": "python3"
  },
  "language_info": {
   "codemirror_mode": {
    "name": "ipython",
    "version": 3
   },
   "file_extension": ".py",
   "mimetype": "text/x-python",
   "name": "python",
   "nbconvert_exporter": "python",
   "pygments_lexer": "ipython3",
   "version": "3.8.2"
  }
 },
 "nbformat": 4,
 "nbformat_minor": 4
}
