{
 "cells": [
  {
   "cell_type": "code",
   "execution_count": null,
   "metadata": {},
   "outputs": [],
   "source": [
    "import datetime\n",
    "import json\n",
    "\n",
    "import numpy as np\n",
    "import pandas as pd\n",
    "import geopandas as gpd\n",
    "from shapely.geometry import Point, Polygon\n",
    "from shapely import affinity\n",
    "import matplotlib.pyplot as plt\n",
    "import contextily as ctx\n",
    "from netCDF4 import Dataset\n",
    "\n",
    "from bokeh.io import output_file, output_notebook, show\n",
    "from bokeh.models import (\n",
    "  GMapPlot, GMapOptions, ColumnDataSource, Circle, LogColorMapper, BasicTicker, ColorBar,\n",
    "    DataRange1d, Range1d, PanTool, WheelZoomTool, BoxSelectTool, ResetTool, HoverTool\n",
    ")\n",
    "from bokeh.models.mappers import ColorMapper, LinearColorMapper\n",
    "from bokeh.palettes import Viridis256\n",
    "from bokeh.plotting import figure\n",
    "from bokeh.resources import CDN\n",
    "from bokeh.embed import file_html"
   ]
  },
  {
   "cell_type": "code",
   "execution_count": null,
   "metadata": {},
   "outputs": [],
   "source": [
    "with open('../keys.json', 'r') as f:\n",
    "    keys = json.loads(f.read())"
   ]
  },
  {
   "cell_type": "markdown",
   "metadata": {},
   "source": [
    "## get lake shape file"
   ]
  },
  {
   "cell_type": "code",
   "execution_count": null,
   "metadata": {},
   "outputs": [],
   "source": [
    "gdf = gpd.read_file('../data/na_lakes/hydrography_p_lakes_v2.shp')"
   ]
  },
  {
   "cell_type": "code",
   "execution_count": null,
   "metadata": {},
   "outputs": [],
   "source": [
    "gdf = gdf.to_crs(epsg=4326)\n",
    "gdf = gdf.dropna()"
   ]
  },
  {
   "cell_type": "code",
   "execution_count": null,
   "metadata": {},
   "outputs": [],
   "source": [
    "gdf[gdf['NAMEEN'].str.contains('Seneca')]"
   ]
  },
  {
   "cell_type": "code",
   "execution_count": null,
   "metadata": {},
   "outputs": [],
   "source": [
    "lake_bounds = gdf[gdf['NAMEEN'].str.contains('Seneca')]['geometry'].unary_union"
   ]
  },
  {
   "cell_type": "markdown",
   "metadata": {},
   "source": [
    "## get sst metadata"
   ]
  },
  {
   "cell_type": "code",
   "execution_count": null,
   "metadata": {},
   "outputs": [],
   "source": [
    "sst_metadata = Dataset(\"../data/sst_nowcoast/202006/20200601_0600_sport_nhemis_sstcomp_2km_unscaled.nc\", \"r\", format=\"NETCDF4\")\n",
    "print(sst_metadata.data_model)"
   ]
  },
  {
   "cell_type": "code",
   "execution_count": null,
   "metadata": {},
   "outputs": [],
   "source": [
    "sst_metadata.variables.keys()"
   ]
  },
  {
   "cell_type": "code",
   "execution_count": null,
   "metadata": {},
   "outputs": [],
   "source": [
    "plt.imshow(sst_metadata.variables['Band1'][:].mask, cmap='viridis', interpolation='nearest')\n",
    "plt.colorbar()\n",
    "plt.show()"
   ]
  },
  {
   "cell_type": "code",
   "execution_count": null,
   "metadata": {},
   "outputs": [],
   "source": [
    "plt.imshow(sst_metadata.variables['Band1'][:].data, cmap='viridis', interpolation='nearest')\n",
    "plt.colorbar()\n",
    "plt.figure(figsize=(18, 18))\n",
    "plt.show()"
   ]
  },
  {
   "cell_type": "code",
   "execution_count": null,
   "metadata": {},
   "outputs": [],
   "source": [
    "water = sst_metadata.variables['Band1'][:].data"
   ]
  },
  {
   "cell_type": "code",
   "execution_count": null,
   "metadata": {},
   "outputs": [],
   "source": [
    "less_water = water[1300:2800,2800:6100]"
   ]
  },
  {
   "cell_type": "code",
   "execution_count": null,
   "metadata": {},
   "outputs": [],
   "source": [
    "less_water.shape"
   ]
  },
  {
   "cell_type": "code",
   "execution_count": null,
   "metadata": {},
   "outputs": [],
   "source": [
    "plt.imshow(less_water, cmap='viridis', interpolation='nearest')\n",
    "plt.colorbar()\n",
    "plt.figure(figsize=(18, 18))\n",
    "plt.show()"
   ]
  },
  {
   "cell_type": "code",
   "execution_count": null,
   "metadata": {},
   "outputs": [],
   "source": [
    "water_mask = sst_metadata.variables['Band1'][:].mask\n",
    "water_points = []\n",
    "for i in range(1300, 2800):\n",
    "    for j in range(2800, 6100):\n",
    "        if water_mask[i][j] == 0:\n",
    "            water_points.append( [i, j] )\n",
    "\n",
    "water_points[:5]"
   ]
  },
  {
   "cell_type": "code",
   "execution_count": null,
   "metadata": {},
   "outputs": [],
   "source": [
    "plt.imshow(sst_metadata.variables['Band1'][:].data, cmap='viridis', interpolation='nearest')\n",
    "plt.colorbar()\n",
    "plt.figure(figsize=(18, 18))\n",
    "plt.show()"
   ]
  },
  {
   "cell_type": "code",
   "execution_count": null,
   "metadata": {},
   "outputs": [],
   "source": [
    "sst_data = Dataset(\"../data/sst_nowcoast_jun2020/20200601_0600_sport_nhemis_sstcomp_2km_scaled.nc\", \"r\", format=\"NETCDF4\")"
   ]
  },
  {
   "cell_type": "code",
   "execution_count": null,
   "metadata": {},
   "outputs": [],
   "source": [
    "lats = sst_data.variables['lat'][:].data\n",
    "lons = sst_data.variables['lon'][:].data\n",
    "temps = sst_data.variables['Band1'][:].data"
   ]
  },
  {
   "cell_type": "code",
   "execution_count": null,
   "metadata": {},
   "outputs": [],
   "source": [
    "water_temps = [ temps[tuple(point)] for point in water_points ]\n",
    "len(water_temps)"
   ]
  },
  {
   "cell_type": "code",
   "execution_count": null,
   "metadata": {},
   "outputs": [],
   "source": [
    "coords = []\n",
    "for idx in water_points:\n",
    "    i, j = idx\n",
    "    coords.append(Point((lons[j], lats[i])))\n",
    "len(coords)"
   ]
  },
  {
   "cell_type": "code",
   "execution_count": null,
   "metadata": {},
   "outputs": [],
   "source": [
    "# load lake points as geodataframe\n",
    "df = pd.DataFrame(data={ 'idx': water_points, 'temp': water_temps})\n",
    "\n",
    "gdf = gpd.GeoDataFrame(df, crs='epsg:4326', geometry=coords)\n",
    "gdf.head()"
   ]
  },
  {
   "cell_type": "code",
   "execution_count": null,
   "metadata": {},
   "outputs": [],
   "source": [
    "map_options = GMapOptions(lat=42.6681422, lng=-73.8457002, map_type=\"roadmap\", zoom=6)\n",
    "\n",
    "plot = GMapPlot(\n",
    "    x_range=Range1d(), y_range=Range1d(), map_options=map_options\n",
    ")\n",
    "plot.title.text = \"Lake Points with Temp Gradient\"\n",
    "\n",
    "plot.api_key = keys['google_maps_api_key']\n",
    "source = ColumnDataSource(\n",
    "    data=dict(\n",
    "        lat=gdf['geometry'].y,\n",
    "        lon=gdf['geometry'].x,\n",
    "        size=[10]*len(gdf),\n",
    "        temp=gdf['temp']\n",
    "    )\n",
    ")\n",
    "\n",
    "color_mapper = LinearColorMapper(palette=Viridis256)\n",
    "\n",
    "circle = Circle(\n",
    "    x=\"lon\", \n",
    "    y=\"lat\", \n",
    "    size=\"size\", \n",
    "    fill_color={'field': 'temp', 'transform': color_mapper}, \n",
    "    fill_alpha=1, \n",
    "    line_color='black'\n",
    ")\n",
    "plot.add_glyph(source, circle)\n",
    "\n",
    "color_bar = ColorBar(\n",
    "    color_mapper=color_mapper, \n",
    "    ticker=BasicTicker(), \n",
    "    label_standoff=12, \n",
    "    border_line_color=None, \n",
    "    location=(0,0)\n",
    ")\n",
    "plot.add_layout(color_bar, 'right')\n",
    "\n",
    "\n",
    "plot.add_tools(PanTool(), WheelZoomTool(), BoxSelectTool(), ResetTool(), HoverTool(tooltips=[('temp', '@temp')]))\n",
    "\n",
    "output_notebook()\n",
    "show(plot)"
   ]
  },
  {
   "cell_type": "code",
   "execution_count": null,
   "metadata": {},
   "outputs": [],
   "source": [
    "gdf = gdf.assign(**{ 'lake': gdf.within(lake_bounds) })\n",
    "lake_data = gdf[gdf['lake']]\n",
    "lake_data.head()"
   ]
  },
  {
   "cell_type": "code",
   "execution_count": null,
   "metadata": {},
   "outputs": [],
   "source": [
    "len(lake_data)"
   ]
  },
  {
   "cell_type": "code",
   "execution_count": null,
   "metadata": {},
   "outputs": [],
   "source": [
    "map_options = GMapOptions(lat=42.6681422, lng=-73.8457002, map_type=\"roadmap\", zoom=6)\n",
    "\n",
    "plot = GMapPlot(\n",
    "    x_range=Range1d(), y_range=Range1d(), map_options=map_options\n",
    ")\n",
    "plot.title.text = \"Lake Points with Temp Gradient\"\n",
    "\n",
    "plot.api_key = keys['google_maps_api_key']\n",
    "source = ColumnDataSource(\n",
    "    data=dict(\n",
    "        lat=lake_data['geometry'].y,\n",
    "        lon=lake_data['geometry'].x,\n",
    "        size=[10]*len(lake_data),\n",
    "        temp=lake_data['temp']\n",
    "    )\n",
    ")\n",
    "\n",
    "color_mapper = LinearColorMapper(palette=Viridis256)\n",
    "\n",
    "circle = Circle(\n",
    "    x=\"lon\", \n",
    "    y=\"lat\", \n",
    "    size=\"size\", \n",
    "    fill_color={'field': 'temp', 'transform': color_mapper}, \n",
    "    fill_alpha=1, \n",
    "    line_color='black'\n",
    ")\n",
    "plot.add_glyph(source, circle)\n",
    "\n",
    "color_bar = ColorBar(\n",
    "    color_mapper=color_mapper, \n",
    "    ticker=BasicTicker(), \n",
    "    label_standoff=12, \n",
    "    border_line_color=None, \n",
    "    location=(0,0)\n",
    ")\n",
    "plot.add_layout(color_bar, 'right')\n",
    "\n",
    "\n",
    "plot.add_tools(PanTool(), WheelZoomTool(), BoxSelectTool(), ResetTool(), HoverTool(tooltips=[('temp', '@temp')]))\n",
    "\n",
    "output_notebook()\n",
    "show(plot)"
   ]
  },
  {
   "cell_type": "code",
   "execution_count": null,
   "metadata": {
    "scrolled": false
   },
   "outputs": [],
   "source": [
    "all_idxs = []\n",
    "all_coords = []\n",
    "all_temps = []\n",
    "all_dates = []\n",
    "for d in range(1, 23):\n",
    "    for cycle in ['0600', '1800']:\n",
    "        print(f\"202006{d:02}_{cycle}\")\n",
    "        sst_data = Dataset(f\"../data/sst_nowcoast_jun2020/202006{d:02}_{cycle}_sport_nhemis_sstcomp_2km_scaled.nc\", \"r\", format=\"NETCDF4\")\n",
    "        \n",
    "        for idx in list(lake_data['idx']):\n",
    "            \n",
    "            all_idxs.append(str(idx))\n",
    "            all_dates.append(datetime.datetime(2020, 6, d, int(cycle[:2]), 0))\n",
    "\n",
    "            all_coords.append(Point((sst_data.variables['lon'][:].data[tuple(idx)[1]], sst_data.variables['lat'][:].data[tuple(idx)[0]])))\n",
    "\n",
    "            all_temps.append(sst_data.variables['Band1'][:].data[tuple(idx)])\n",
    "        "
   ]
  },
  {
   "cell_type": "code",
   "execution_count": null,
   "metadata": {},
   "outputs": [],
   "source": [
    "seneca_lake_points = pd.DataFrame(data={ \n",
    "    'idx': all_idxs,\n",
    "    'date': all_dates,\n",
    "    'temp': all_temps\n",
    "})\n",
    "\n",
    "seneca_lake_points = gpd.GeoDataFrame(seneca_lake_points, crs='epsg:4326', geometry=all_coords)\n",
    "seneca_lake_points.head()"
   ]
  },
  {
   "cell_type": "code",
   "execution_count": null,
   "metadata": {},
   "outputs": [],
   "source": [
    "seneca_lake_points['temp'].unique()[7]"
   ]
  },
  {
   "cell_type": "code",
   "execution_count": null,
   "metadata": {},
   "outputs": [],
   "source": [
    "seneca_lake_points['temp'] = seneca_lake_points['temp'].replace([seneca_lake_points['temp'].unique()[7],], np.nan)"
   ]
  },
  {
   "cell_type": "code",
   "execution_count": null,
   "metadata": {},
   "outputs": [],
   "source": [
    "import plotly.express as px"
   ]
  },
  {
   "cell_type": "code",
   "execution_count": null,
   "metadata": {},
   "outputs": [],
   "source": [
    "fig = px.line(\n",
    "    seneca_lake_points,\n",
    "    x='date',\n",
    "    y='temp',\n",
    "    color='idx',\n",
    "    width=1920, \n",
    "    height=1080\n",
    ")\n",
    "fig.update_layout(\n",
    "    title=\"HRRRX/CLM Lake Model 0hr-Preds for Seneca Lake, NY from Apr 20, 2020 - Jun 20, 2020 Forecast Cycles 00, 06, 12, and 18\",\n",
    "    xaxis_title=\"Forcast Cycle\",\n",
    "    yaxis_title=\"Water Temp (C)\",\n",
    "    xaxis = {\n",
    "        'dtick': 3600000.0*24#*7\n",
    "    },\n",
    "    yaxis = {\n",
    "        'range': [0, 80]\n",
    "    }\n",
    ")\n",
    "fig.update_traces(connectgaps=False)\n",
    "fig.show()"
   ]
  }
 ],
 "metadata": {
  "kernelspec": {
   "display_name": "Python 3",
   "language": "python",
   "name": "python3"
  },
  "language_info": {
   "codemirror_mode": {
    "name": "ipython",
    "version": 3
   },
   "file_extension": ".py",
   "mimetype": "text/x-python",
   "name": "python",
   "nbconvert_exporter": "python",
   "pygments_lexer": "ipython3",
   "version": "3.8.5"
  }
 },
 "nbformat": 4,
 "nbformat_minor": 4
}
