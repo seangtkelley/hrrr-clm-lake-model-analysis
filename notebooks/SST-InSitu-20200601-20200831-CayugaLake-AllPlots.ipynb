{
 "cells": [
  {
   "cell_type": "markdown",
   "metadata": {},
   "source": [
    "# NASA SPoRT SST vs. In-Situ Observations Jun 1. - Aug. 31\n",
    "## Cayuga Lake, NY"
   ]
  },
  {
   "cell_type": "markdown",
   "metadata": {},
   "source": [
    "### Imports"
   ]
  },
  {
   "cell_type": "code",
   "execution_count": null,
   "metadata": {},
   "outputs": [],
   "source": [
    "import os, sys\n",
    "import ast\n",
    "from datetime import date, datetime\n",
    "from decimal import Decimal\n",
    "from math import sqrt\n",
    "\n",
    "from netCDF4 import Dataset\n",
    "import numpy as np\n",
    "import pandas as pd\n",
    "import geopandas as gpd\n",
    "from shapely.geometry import Point, Polygon\n",
    "import matplotlib.pyplot as plt\n",
    "import contextily as ctx\n",
    "from pyproj import Transformer\n",
    "import plotly.express as px\n",
    "import plotly.graph_objects as go\n",
    "import django\n",
    "from sklearn.metrics import mean_squared_error, mean_absolute_error\n",
    "import geopy.distance"
   ]
  },
  {
   "cell_type": "code",
   "execution_count": null,
   "metadata": {},
   "outputs": [],
   "source": [
    "# setup for django\n",
    "sys.path.append(os.path.abspath(os.path.join('..', 'djangoapp')))\n",
    "os.environ[\"DJANGO_SETTINGS_MODULE\"] = \"config.settings\"\n",
    "os.environ[\"DJANGO_ALLOW_ASYNC_UNSAFE\"] = \"true\"\n",
    "django.setup()\n",
    "from lib import utils\n",
    "from api import models"
   ]
  },
  {
   "cell_type": "markdown",
   "metadata": {},
   "source": [
    "### Get Lake Metadata"
   ]
  },
  {
   "cell_type": "code",
   "execution_count": null,
   "metadata": {},
   "outputs": [],
   "source": [
    "# get lake\n",
    "lake = models.Lake.objects.filter(name__contains='Cayuga').first()"
   ]
  },
  {
   "cell_type": "code",
   "execution_count": null,
   "metadata": {},
   "outputs": [],
   "source": [
    "sst_lake_points = utils.get_sst_output_for_lake(lake, date(2020, 6, 1), date(2020, 8, 31))"
   ]
  },
  {
   "cell_type": "code",
   "execution_count": null,
   "metadata": {},
   "outputs": [],
   "source": [
    "# -3.76 is what would be a pixel value of 0 in the original tiff file\n",
    "# seems to be the error value, makes the plots look terrible\n",
    "sst_lake_points['water_temp'] = sst_lake_points['water_temp'].replace(Decimal('-3.76'), None)"
   ]
  },
  {
   "cell_type": "markdown",
   "metadata": {},
   "source": [
    "### Lake Map"
   ]
  },
  {
   "cell_type": "code",
   "execution_count": null,
   "metadata": {},
   "outputs": [],
   "source": []
  },
  {
   "cell_type": "markdown",
   "metadata": {},
   "source": [
    "### Get In-Situ Data"
   ]
  },
  {
   "cell_type": "code",
   "execution_count": null,
   "metadata": {},
   "outputs": [],
   "source": [
    "# load cayuga data from csv\n",
    "insitu_data = pd.read_csv('../data/insitu/JuneJulyAugust2020_Cayuga_Lake_Water_Temperature.csv', skiprows=1, parse_dates=[0])"
   ]
  },
  {
   "cell_type": "markdown",
   "metadata": {},
   "source": [
    "### All SPoRTS SST Temps vs. In-Situ Temp Observations"
   ]
  },
  {
   "cell_type": "code",
   "execution_count": null,
   "metadata": {},
   "outputs": [],
   "source": [
    "import plotly.graph_objects as go\n",
    "\n",
    "# Create traces\n",
    "fig = go.Figure()\n",
    "\n",
    "for idx in sst_lake_points['grid_idx'].unique():\n",
    "    fig.add_trace(\n",
    "        go.Scatter(\n",
    "            x=sst_lake_points[sst_lake_points['grid_idx'] == idx]['datetime'],\n",
    "            y=sst_lake_points[sst_lake_points['grid_idx'] == idx]['water_temp'],\n",
    "            mode='lines',\n",
    "            name=idx\n",
    "        )\n",
    "    )\n",
    "    \n",
    "\n",
    "fig.add_trace(\n",
    "    go.Scatter(\n",
    "        x=insitu_data['Timestamp'],\n",
    "        y=insitu_data['Avg'],\n",
    "        mode='lines',\n",
    "        name=\"In-Situ\",\n",
    "        line={ 'color': 'black' }\n",
    "    )\n",
    ")\n",
    "\n",
    "fig.update_layout(\n",
    "    title=\"SST Lake Model Cycles 06 and 18 and In-Situ Temp for Cayuga Lake, NY from June 1, 2020 - Aug 31, 2020\",\n",
    "    xaxis_title=\"Forcast Cycle/Observation Datetime\",\n",
    "    yaxis_title=\"Water Temp (C)\",\n",
    "    xaxis = {\n",
    "        'dtick': 3600000.0*24#*7\n",
    "    },\n",
    "    width=1920, \n",
    "    height=1080\n",
    ")\n",
    "fig.update_traces(connectgaps=False)\n",
    "\n",
    "fig.show()"
   ]
  },
  {
   "cell_type": "markdown",
   "metadata": {},
   "source": [
    "### Closest 5 SPoRTS SST Temps vs. In-Situ Temp Observations"
   ]
  },
  {
   "cell_type": "code",
   "execution_count": null,
   "metadata": {},
   "outputs": [],
   "source": [
    "# get station\n",
    "station = models.Station.objects.filter(lake=lake).first()"
   ]
  },
  {
   "cell_type": "code",
   "execution_count": null,
   "metadata": {},
   "outputs": [],
   "source": [
    "station_point = Point(station.lon, station.lat)\n",
    "\n",
    "dists = {}\n",
    "for idx, group in sst_lake_points.groupby('grid_idx'):\n",
    "    point = group['geometry'].unique()[0]\n",
    "    dist = geopy.distance.geodesic((station.lon, station.lat), (point.x, point.y)).m\n",
    "    dists[str(idx)] = dist"
   ]
  },
  {
   "cell_type": "code",
   "execution_count": null,
   "metadata": {},
   "outputs": [],
   "source": [
    "closest_5_idx = sorted(dists, key=dists.__getitem__)[:5]\n",
    "closest_5_idx"
   ]
  },
  {
   "cell_type": "code",
   "execution_count": null,
   "metadata": {},
   "outputs": [],
   "source": [
    "# Create traces\n",
    "fig = go.Figure()\n",
    "\n",
    "for idx in closest_5_idx:\n",
    "    fig.add_trace(\n",
    "        go.Scatter(\n",
    "            x=sst_lake_points[sst_lake_points['grid_idx'] == idx]['datetime'],\n",
    "            y=sst_lake_points[sst_lake_points['grid_idx'] == idx]['water_temp'],\n",
    "            mode='lines',\n",
    "            name=idx\n",
    "        )\n",
    "    )\n",
    "    \n",
    "\n",
    "fig.add_trace(\n",
    "    go.Scatter(\n",
    "        x=insitu_data['Timestamp'],\n",
    "        y=insitu_data['Avg'],\n",
    "        mode='lines',\n",
    "        name=\"In-Situ\",\n",
    "        line={ 'color': 'black' }\n",
    "    )\n",
    ")\n",
    "\n",
    "fig.update_layout(\n",
    "    title=\"Closest 5 SST Lake Model Points (Cycles 06 and 18) and In-Situ Temp for Lake Cayuga, NY from June 1, 2020 - Aug 31, 2020\",\n",
    "    xaxis_title=\"Forcast Cycle/Observation Datetime\",\n",
    "    yaxis_title=\"Water Temp (C)\",\n",
    "    xaxis = {\n",
    "        'dtick': 3600000.0*24#*7\n",
    "    },\n",
    "    width=1920, \n",
    "    height=1080\n",
    ")\n",
    "fig.update_traces(connectgaps=False)\n",
    "\n",
    "fig.show()"
   ]
  },
  {
   "cell_type": "markdown",
   "metadata": {},
   "source": [
    "### Skill Statistics"
   ]
  },
  {
   "cell_type": "code",
   "execution_count": null,
   "metadata": {},
   "outputs": [],
   "source": [
    "y_true_df = insitu_data[((insitu_data['Timestamp'].dt.hour == 6) & (insitu_data['Timestamp'].dt.minute == 0)) | ((insitu_data['Timestamp'].dt.hour == 18) & (insitu_data['Timestamp'].dt.minute == 0))].sort_values(by='Timestamp')\n",
    "y_true_df.head()"
   ]
  },
  {
   "cell_type": "code",
   "execution_count": null,
   "metadata": {},
   "outputs": [],
   "source": [
    "y_pred_df = sst_lake_points[sst_lake_points['grid_idx'].isin(closest_5_idx)].sort_values(by='datetime')\n",
    "y_pred_df.head()"
   ]
  },
  {
   "cell_type": "code",
   "execution_count": null,
   "metadata": {},
   "outputs": [],
   "source": [
    "assert(len(y_pred_df['datetime'].unique()) == len(y_true_df['Avg'].values))"
   ]
  },
  {
   "cell_type": "code",
   "execution_count": null,
   "metadata": {},
   "outputs": [],
   "source": [
    "# convert 'water_temp' column to numeric type so it can be averaged over\n",
    "y_pred_df['water_temp'] = pd.to_numeric(y_pred_df['water_temp'])# , errors ='ignore')"
   ]
  },
  {
   "cell_type": "code",
   "execution_count": null,
   "metadata": {},
   "outputs": [],
   "source": [
    "# average closest 5 SST points for 0600 and 1800\n",
    "y_pred = y_pred_df.groupby('datetime')['water_temp'].mean()"
   ]
  },
  {
   "cell_type": "markdown",
   "metadata": {},
   "source": [
    "#### Mean Absolute Error"
   ]
  },
  {
   "cell_type": "code",
   "execution_count": null,
   "metadata": {},
   "outputs": [],
   "source": [
    "# MAE\n",
    "mean_absolute_error(y_true_df['Avg'].values, y_pred.values)"
   ]
  },
  {
   "cell_type": "markdown",
   "metadata": {},
   "source": [
    "#### Root Mean Squared Error"
   ]
  },
  {
   "cell_type": "code",
   "execution_count": null,
   "metadata": {},
   "outputs": [],
   "source": [
    "# RMSE\n",
    "sqrt(mean_squared_error(y_true_df['Avg'].values, y_pred.values))"
   ]
  },
  {
   "cell_type": "code",
   "execution_count": null,
   "metadata": {},
   "outputs": [],
   "source": [
    "# Create traces\n",
    "fig = go.Figure()\n",
    "\n",
    "fig.add_trace(\n",
    "    go.Scatter(\n",
    "        x=y_true_df['Avg'].values,\n",
    "        y=y_pred.values,\n",
    "        mode='markers',\n",
    "        name=\"In-Situ\"\n",
    "    )\n",
    ")\n",
    "\n",
    "fig.add_trace(\n",
    "    go.Scatter(\n",
    "        x=list(range(14, 30)),\n",
    "        y=list(range(14, 30)),\n",
    "        mode='lines',\n",
    "        name=\"1:1\"\n",
    "    )\n",
    ")\n",
    "\n",
    "fig.update_layout(\n",
    "    title=\"Observed vs Predicted Temp\",\n",
    "    xaxis_title=\"Observed Temp (C)\",\n",
    "    yaxis_title=\"Predicted Temp (C)\",\n",
    ")\n",
    "fig.update_traces(connectgaps=False)\n",
    "\n",
    "fig.show()"
   ]
  },
  {
   "cell_type": "code",
   "execution_count": null,
   "metadata": {
    "scrolled": true
   },
   "outputs": [],
   "source": [
    "# Create traces\n",
    "fig = go.Figure()\n",
    "\n",
    "fig.add_trace(\n",
    "    go.Bar(\n",
    "        x=y_true_df['Timestamp'],\n",
    "        y=abs(y_pred.values - y_true_df['Avg'].values),\n",
    "        name=\"Absolute Error\",\n",
    "    )\n",
    ")\n",
    "\n",
    "fig.add_trace(\n",
    "    go.Scatter(\n",
    "        x=insitu_data['Timestamp'],\n",
    "        y=insitu_data['Avg'],\n",
    "        mode='lines',\n",
    "        name=\"In-Situ\",\n",
    "        line={ 'color': 'black' }\n",
    "    )\n",
    ")\n",
    "\n",
    "fig.update_layout(\n",
    "    title=\"Absolute Error\",\n",
    "    xaxis_title=\"Forcast Cycle/Observation Datetime\",\n",
    "    yaxis_title=\"Temp (C)\",\n",
    ")\n",
    "\n",
    "fig.show()"
   ]
  },
  {
   "cell_type": "code",
   "execution_count": null,
   "metadata": {},
   "outputs": [],
   "source": []
  }
 ],
 "metadata": {
  "kernelspec": {
   "display_name": "Python 3",
   "language": "python",
   "name": "python3"
  },
  "language_info": {
   "codemirror_mode": {
    "name": "ipython",
    "version": 3
   },
   "file_extension": ".py",
   "mimetype": "text/x-python",
   "name": "python",
   "nbconvert_exporter": "python",
   "pygments_lexer": "ipython3",
   "version": "3.8.5"
  }
 },
 "nbformat": 4,
 "nbformat_minor": 4
}
