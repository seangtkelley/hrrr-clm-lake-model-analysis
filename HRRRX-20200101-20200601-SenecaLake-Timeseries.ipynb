{
 "cells": [
  {
   "cell_type": "code",
   "execution_count": 1,
   "metadata": {},
   "outputs": [],
   "source": [
    "import os\n",
    "import ast\n",
    "from datetime import date\n",
    "\n",
    "from netCDF4 import Dataset\n",
    "import numpy as np\n",
    "import pandas as pd\n",
    "import geopandas as gpd\n",
    "from shapely.geometry import Point, Polygon\n",
    "import matplotlib.pyplot as plt\n",
    "import contextily as ctx\n",
    "from pyproj import Transformer\n",
    "import plotly.express as px\n",
    "\n",
    "from bokeh.io import output_file, output_notebook, show\n",
    "from bokeh.models import (\n",
    "  GMapPlot, GMapOptions, ColumnDataSource, Circle, LogColorMapper, BasicTicker, ColorBar,\n",
    "    DataRange1d, Range1d, PanTool, WheelZoomTool, BoxSelectTool, ResetTool, HoverTool\n",
    ")\n",
    "from bokeh.models.mappers import ColorMapper, LinearColorMapper\n",
    "from bokeh.palettes import Viridis256\n",
    "\n",
    "import utils"
   ]
  },
  {
   "cell_type": "code",
   "execution_count": 2,
   "metadata": {},
   "outputs": [
    {
     "data": {
      "text/plain": [
       "[0, 6, 12, 18]"
      ]
     },
     "execution_count": 2,
     "metadata": {},
     "output_type": "execute_result"
    }
   ],
   "source": [
    "list(range(0, 24, 6))"
   ]
  },
  {
   "cell_type": "code",
   "execution_count": null,
   "metadata": {},
   "outputs": [
    {
     "name": "stdout",
     "output_type": "stream",
     "text": [
      "./data/hrrrX/sfc/20200601/hrrrX.t18z.wrfsfcf00.grib2: 1KB [00:00, 14.32KB/s]\n",
      "./data/hrrrX/sfc/20200602/hrrrX.t00z.wrfsfcf00.grib2: 140226KB [00:06, 20320.55KB/s]                            \n",
      "./data/hrrrX/sfc/20200602/hrrrX.t06z.wrfsfcf00.grib2: 126349KB [00:06, 19336.42KB/s]                            \n",
      "./data/hrrrX/sfc/20200602/hrrrX.t12z.wrfsfcf00.grib2: 133734KB [00:06, 21462.44KB/s]                            \n",
      "./data/hrrrX/sfc/20200602/hrrrX.t18z.wrfsfcf00.grib2: 140940KB [00:07, 18900.07KB/s]                            \n",
      "./data/hrrrX/sfc/20200603/hrrrX.t00z.wrfsfcf00.grib2: 138269KB [00:09, 14081.80KB/s]                            \n",
      "./data/hrrrX/sfc/20200603/hrrrX.t06z.wrfsfcf00.grib2: 126166KB [00:06, 18257.19KB/s]                            \n",
      "./data/hrrrX/sfc/20200603/hrrrX.t12z.wrfsfcf00.grib2: 135241KB [00:09, 13557.33KB/s]                            \n",
      "./data/hrrrX/sfc/20200603/hrrrX.t18z.wrfsfcf00.grib2: 141129KB [00:07, 19498.73KB/s]                            \n",
      "./data/hrrrX/sfc/20200604/hrrrX.t00z.wrfsfcf00.grib2: 140659KB [00:15, 9076.95KB/s]                             \n",
      "./data/hrrrX/sfc/20200604/hrrrX.t06z.wrfsfcf00.grib2: 127939KB [00:06, 20637.17KB/s]                            \n",
      "./data/hrrrX/sfc/20200604/hrrrX.t12z.wrfsfcf00.grib2: 135939KB [00:07, 18612.12KB/s]                            \n",
      "./data/hrrrX/sfc/20200604/hrrrX.t18z.wrfsfcf00.grib2: 143311KB [00:08, 16428.08KB/s]                            \n",
      "./data/hrrrX/sfc/20200605/hrrrX.t00z.wrfsfcf00.grib2: 140990KB [00:07, 19329.16KB/s]                            \n",
      "./data/hrrrX/sfc/20200605/hrrrX.t06z.wrfsfcf00.grib2: 128073KB [00:08, 15090.31KB/s]                            \n",
      "./data/hrrrX/sfc/20200605/hrrrX.t12z.wrfsfcf00.grib2: 137302KB [00:06, 20864.37KB/s]                            \n",
      "./data/hrrrX/sfc/20200605/hrrrX.t18z.wrfsfcf00.grib2: 144936KB [00:07, 20555.67KB/s]                            \n",
      "./data/hrrrX/sfc/20200606/hrrrX.t00z.wrfsfcf00.grib2: 145652KB [00:07, 19581.91KB/s]                            \n"
     ]
    }
   ],
   "source": [
    "lakes_gdf = utils.get_hrrrx_lake_output(date(2020, 5, 20), date(2020, 6, 20), cycle_hours=list(range(0, 24, 6)), pred_hours=[0])"
   ]
  },
  {
   "cell_type": "code",
   "execution_count": null,
   "metadata": {},
   "outputs": [],
   "source": [
    "# using manually-created bounding box for seneca lake\n",
    "coords = [\n",
    "    (-76.998076, 42.877521), \n",
    "    (-76.860185, 42.881791), \n",
    "    (-76.823285, 42.375953), \n",
    "    (-76.968944, 42.367344)\n",
    "]\n",
    "\n",
    "seneca_lake_bounds = gpd.GeoSeries([Polygon(coords)], crs='epsg:4326')\n",
    "seneca_lake_bounds = seneca_lake_bounds.to_crs(epsg=3857).unary_union"
   ]
  },
  {
   "cell_type": "code",
   "execution_count": null,
   "metadata": {},
   "outputs": [],
   "source": [
    "lakes_gdf = lakes_gdf.assign(**{ 'seneca_lake': lakes_gdf.within(seneca_lake_bounds) })\n",
    "seneca_lake_points = lakes_gdf[lakes_gdf['seneca_lake']]\n",
    "seneca_lake_points.head()"
   ]
  },
  {
   "cell_type": "code",
   "execution_count": null,
   "metadata": {},
   "outputs": [],
   "source": [
    "fig = px.line(\n",
    "    seneca_lake_points,\n",
    "    x='fcst_datetime',\n",
    "    y='water_temp',\n",
    "    color='idx'\n",
    ")\n",
    "fig.update_layout(\n",
    "    title=\"HRRRX/CLM 0hr-Preds for Seneca Lake from 20200620-20200520 Fcst Cycles\",\n",
    "    xaxis_title=\"Forcast Cycle\",\n",
    "    yaxis_title=\"Water Temp (C)\",\n",
    "    xaxis = {\n",
    "        'dtick': 3600000.0\n",
    "    }\n",
    ")\n",
    "fig.show()"
   ]
  }
 ],
 "metadata": {
  "kernelspec": {
   "display_name": "Python 3",
   "language": "python",
   "name": "python3"
  },
  "language_info": {
   "codemirror_mode": {
    "name": "ipython",
    "version": 3
   },
   "file_extension": ".py",
   "mimetype": "text/x-python",
   "name": "python",
   "nbconvert_exporter": "python",
   "pygments_lexer": "ipython3",
   "version": "3.8.2"
  }
 },
 "nbformat": 4,
 "nbformat_minor": 4
}
